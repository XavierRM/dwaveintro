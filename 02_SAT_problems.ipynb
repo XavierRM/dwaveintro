{
  "cells": [
    {
      "cell_type": "markdown",
      "metadata": {},
      "source": [
        "<div>\n",
        "<img src=\"https://www.nebrija.com/images/logos/logotipo-universidad-nebrija.jpg\" width=\"200\">\n",
        "</div>\n",
        "\n",
        "**MODELOS DE PROGRAMACION: MODELO ADIABATICO** -\n",
        "Prof: Carmen Pellicer Lostao"
      ]
    },
    {
      "cell_type": "markdown",
      "metadata": {
        "id": "lI0lddnqHsI-"
      },
      "source": [
        "# SAT PROBLEMS"
      ]
    },
    {
      "cell_type": "markdown",
      "metadata": {},
      "source": [
        "## Intro"
      ]
    },
    {
      "cell_type": "markdown",
      "metadata": {
        "id": "-MGUX7ylRPCK"
      },
      "source": [
        "The D-Wave quantum computer is well suited to solving optimization and [satisfiability](https://en.wikipedia.org/wiki/Boolean_satisfiability_problem) (SAT) problems with binary variables. Binary variables can only have values 0 (NO, or FALSE) or 1 (YES, or TRUE), which are easily mapped to qubit final states of “spin up” (↑\n",
        ") and “spin down” (↓). These are problems that answer questions such as, “Should a package be shipped on this truck?”\n"
      ]
    },
    {
      "cell_type": "code",
      "execution_count": 5,
      "metadata": {},
      "outputs": [],
      "source": [
        "import dwave"
      ]
    },
    {
      "cell_type": "markdown",
      "metadata": {
        "id": "lckehWUYHsJD"
      },
      "source": [
        "## 2-SAT"
      ]
    },
    {
      "cell_type": "markdown",
      "metadata": {},
      "source": [
        "### The 2-SAT problem"
      ]
    },
    {
      "cell_type": "markdown",
      "metadata": {},
      "source": [
        "This section uses an example problem of a very simple SAT:\n",
        "\n",
        "$(x_1 ∨ x_2)∧( \\~x_1 ∨ \\~x_2)$\n",
        "\n",
        "or in another notation:\n",
        "$(x_1 ∨ x_2)∧(\\neg x_1 ∨ ¬x_2)$\n",
        "\n",
        "This is a 2-SAT in **conjunctive normal** form (CNF), meaning it has disjunctions of two Boolean variables (X OR Y) joined by an AND, and is satisfied only if all its disjunctions are satisfied; that is, to make the SAT true, you must find and assign appropriate values of 0 or 1 to all its variables.\n",
        "\n",
        "You can easily verify that the solution to this example problem is $x_1≠x_2$ or $x_1+x_2=1$\n",
        "\n",
        "For example:\n",
        "\n",
        "$x_1=x_2=0 → (0∨0)∧(1∨1)=0∧1=0$  (False)\n",
        "\n",
        "$x_1=0 ≠ x_2=1 → (0∨1)∧(1∨0)=1∧1=1$ (True)"
      ]
    },
    {
      "cell_type": "markdown",
      "metadata": {
        "id": "6i10uJKWeQMo"
      },
      "source": [
        "The objective function to find the solution to this 2-SAT problem is found after building a **Truth Table** where we asign the minimum Energy to solution states that satisfy our problem"
      ]
    },
    {
      "cell_type": "markdown",
      "metadata": {
        "id": "o3ldv5DNerwo"
      },
      "source": [
        "A two-variable QUBO can have four possible values of its variables, representing four possible states of the system, as shown herein the following table"
      ]
    },
    {
      "cell_type": "markdown",
      "metadata": {
        "id": "0PQxr8EUfEd9"
      },
      "source": [
        "|  states | $q_1$ |  $q_2$ | Energy   |\n",
        "|---|---|---|---|\n",
        "|  1 | 0  | 0 | 1 |\n",
        "|  2 | 0  | 1 | 0 |\n",
        "|  3 | 1  | 0 | 0 |\n",
        "|  4 | 1  | 1 | 1 |"
      ]
    },
    {
      "cell_type": "markdown",
      "metadata": {
        "id": "GHN5_UM-icgf"
      },
      "source": [
        "For an objective function to represent the example SAT (i.e., to reformulate the original problem as an objective function that can be solved through minimization by a D-Wave solver), it needs to favor states 1 and 4 over states 2 and 3. You do this by penalizing states that do not satisfy the SAT; that is, by formulating the objective such that those states have higher energy.\n",
        "\n",
        "First, notice that when $q_1$ and $q_2$ both equal 0—state 1—the value of the objective function is 0 for any value of the coefficients. To favor this state, you should formulate the objective function to have a global minimum energy (the ground state energy of the system) equal to 0. Doing so ensures that state 1 is a good solution.\n",
        "Second, you penalize states 2 and 3 relative to state 1. One way to do this is to set both a1 and a2 to a positive value such as 0.11. Doing so sets the the value of the objective function for those two states to 0.10.1."
      ]
    },
    {
      "cell_type": "markdown",
      "metadata": {
        "id": "3WBGbHzKi31a"
      },
      "source": [
        "The QUBO function is the following:\n",
        "\n",
        "$ E(q_i)= 1- q_1 - q_2 +2 q_1*q_2$"
      ]
    },
    {
      "cell_type": "markdown",
      "metadata": {},
      "source": [
        "### Building the BQM"
      ]
    },
    {
      "cell_type": "markdown",
      "metadata": {
        "id": "KbFOTJVwdTmP"
      },
      "source": [
        "In `dimod` package we can find different [models](https://docs.ocean.dwavesys.com/en/stable/docs_dimod/intro/intro_models.html). We can build a BQM from a QUBO or ISING funtion we need to pass the linear and quadratic terms in a dictionary format and the constant offset.\n",
        "\n",
        "See the [BQM documentation](https://docs.ocean.dwavesys.com/en/stable/docs_dimod/reference/models.html#id10) to learn about the different ways to build a BQM object. Here we explore two ways `from_qubo()` method and `BinaryQuadraticModel()` constructor. In both ways we build the same BQM object and store it in a variable with the same name"
      ]
    },
    {
      "cell_type": "code",
      "execution_count": 6,
      "metadata": {},
      "outputs": [
        {
          "name": "stdout",
          "output_type": "stream",
          "text": [
            "BinaryQuadraticModel({'q_1': -1.0, 'q_2': -1.0}, {('q_2', 'q_1'): 2.0}, 1.0, 'BINARY')\n"
          ]
        }
      ],
      "source": [
        "from dimod import BinaryQuadraticModel\n",
        "\n",
        "linear = {('q_1', 'q_1'): -1, ('q_2', 'q_2'): -1}\n",
        "quadratic = {('q_1', 'q_2'): 2}\n",
        "\n",
        "Q = {**linear, **quadratic}\n",
        "bqm = BinaryQuadraticModel.from_qubo(Q, 1.0 )   #Create BQM object with method from_qubo() setting an offset to 1\n",
        "print(bqm)"
      ]
    },
    {
      "cell_type": "code",
      "execution_count": 8,
      "metadata": {},
      "outputs": [
        {
          "name": "stdout",
          "output_type": "stream",
          "text": [
            "BinaryQuadraticModel({'q_1': -1.0, 'q_2': -1.0}, {('q_2', 'q_1'): 2.0}, 1.0, 'BINARY')\n"
          ]
        }
      ],
      "source": [
        "#The BQM parameters we see in the above BQM built from Q QUBO matrix \n",
        "linear1={'q_1': -1, 'q_2': -1}  # note linear information has a different format\n",
        "quadratic = {('q_1', 'q_2'): 2}\n",
        "\n",
        "#Create BQM object with BinaryQuadraticModel constructor and setting an offset to 1\n",
        "bqm = BinaryQuadraticModel(linear1,quadratic, 1.0,'BINARY')     #BinaryQuadraticModel(linear, quadratic, offset, vartype) from linear and quadratic biases and an offset.\n",
        "print(bqm)"
      ]
    },
    {
      "cell_type": "markdown",
      "metadata": {},
      "source": [
        "### Solving the BQM in the QPU"
      ]
    },
    {
      "cell_type": "markdown",
      "metadata": {},
      "source": [
        "To solve the 2-SAT problen in a QPU we use DWave quantum solver and automatic embedding. When we use a sampler from Ocean software’s dwave-system to solve on a D-Wave system, in addition to `DWaveSampler()`, we must use `EmbeddingComposite()`, which maps unstructured problems to the graph structure of the selected sampler, a process known as **minor-embedding**: our problem graph must be mapped to the QPU’s numerically indexed qubits.\n",
        "\n",
        "We need to import the libraries and create a sampler"
      ]
    },
    {
      "cell_type": "code",
      "execution_count": 7,
      "metadata": {},
      "outputs": [],
      "source": [
        "from dwave.system import DWaveSampler, EmbeddingComposite\n",
        "sampler = EmbeddingComposite(DWaveSampler())"
      ]
    },
    {
      "cell_type": "markdown",
      "metadata": {},
      "source": [
        "See the documentation to learn about the different ways to sample a BQM objects. Here we explore two ways `sample_qubo()` and `sample` methods of sampler objects. In the first one we pass a QUBO matrix and in the second one a BQM object."
      ]
    },
    {
      "cell_type": "code",
      "execution_count": null,
      "metadata": {},
      "outputs": [],
      "source": [
        "#you can sample the QUBO matrix with the sampler\n",
        "sampleset = sampler.sample_qubo(Q, num_reads=5000, label='SAT x1=x2 with matrix Q')\n",
        "print(sampleset)"
      ]
    },
    {
      "cell_type": "code",
      "execution_count": null,
      "metadata": {},
      "outputs": [],
      "source": [
        "#you can sample a BQM object with the sampler\n",
        "sampleset = sampler.sample(bqm, num_reads=5000,label='SAT x1=x2 with bqm ans offset')\n",
        "print(sampleset)"
      ]
    },
    {
      "cell_type": "markdown",
      "metadata": {},
      "source": [
        "**Exercice:**\n",
        "\n",
        "Justify the difference in the values ​​of the Energies in each case.\n",
        "\n",
        "Observe that it is possible that some results from the sampled values ​​are not the optimal minimum."
      ]
    },
    {
      "cell_type": "markdown",
      "metadata": {},
      "source": [
        "For more efficient sampling, scaling the QUBO function is important in the solutions to be sampled."
      ]
    },
    {
      "cell_type": "code",
      "execution_count": null,
      "metadata": {},
      "outputs": [],
      "source": [
        "# Define QUBOs matrix with diferent scaling properties\n",
        "#linear = {('q_1', 'q_1'): -1, ('q_2', 'q_2'): -1}\n",
        "#quadratic = {('q_1', 'q_2'): 2}\n",
        "Q1 = {('q1', 'q1'): -1.0, ('q2', 'q2'): -1.0, ('q1', 'q2'): 2}\n",
        "Q2 = {('q1', 'q1'): -0.5, ('q2', 'q2'): -0.5, ('q1', 'q2'): 1}\n",
        "\n",
        "#With autoscaling (the default),\n",
        "# Autoscaling on for original QUBO\n",
        "sampleset1 = sampler.sample_qubo(Q1, num_reads=5000)\n",
        "print(sampleset1)\n",
        "# Autoscaling on for scaled-up QUBO\n",
        "sampleset2 = sampler.sample_qubo(Q2, num_reads=5000)\n",
        "print(sampleset2)\n",
        "\n",
        "#With autoscaling disabled,\n",
        "# Autoscaling off for original QUBO\n",
        "sampleset3 = sampler.sample_qubo(Q1, num_reads=5000, auto_scale=False)\n",
        "print(sampleset3)\n",
        "# Autoscaling off for scaled-up QUBO\n",
        "sampleset4 = sampler.sample_qubo(Q2, num_reads=5000, auto_scale=False)\n",
        "print(sampleset4)"
      ]
    },
    {
      "cell_type": "markdown",
      "metadata": {},
      "source": [
        "To understand how our BQM is being executed in the QPU we can inspect the embedding in each case with the problem inspector libraries:"
      ]
    },
    {
      "cell_type": "code",
      "execution_count": null,
      "metadata": {},
      "outputs": [],
      "source": [
        "import dwave.inspector\n",
        "\n",
        "# Inspect the problems sampleset1,...,sampleset4\n",
        "dwave.inspector.show(sampleset4)"
      ]
    },
    {
      "cell_type": "markdown",
      "metadata": {
        "id": "M3ttlIT-bOs0"
      },
      "source": [
        "### Interesting tools\n",
        "\n"
      ]
    },
    {
      "cell_type": "markdown",
      "metadata": {
        "id": "OpptHUnTcZR_"
      },
      "source": [
        "[PyQUBO](https://pyqubo.readthedocs.io/en/latest/) allows you to create QUBOs or Ising models from flexible mathematical expressions easily.\n",
        "\n",
        "You can convert a QUBO or Ising object generated qith pyQUBO to a DWave Binary Quadratic Model (BQM) object"
      ]
    },
    {
      "cell_type": "code",
      "execution_count": 1,
      "metadata": {},
      "outputs": [
        {
          "ename": "ModuleNotFoundError",
          "evalue": "No module named 'pyqubo'",
          "output_type": "error",
          "traceback": [
            "\u001b[0;31m---------------------------------------------------------------------------\u001b[0m",
            "\u001b[0;31mModuleNotFoundError\u001b[0m                       Traceback (most recent call last)",
            "Cell \u001b[0;32mIn[1], line 1\u001b[0m\n\u001b[0;32m----> 1\u001b[0m \u001b[38;5;28;01mimport\u001b[39;00m \u001b[38;5;21;01mpyqubo\u001b[39;00m \u001b[38;5;28;01mas\u001b[39;00m \u001b[38;5;21;01mpq\u001b[39;00m\n\u001b[1;32m      2\u001b[0m q_1,q_2 \u001b[38;5;241m=\u001b[39m pq\u001b[38;5;241m.\u001b[39mBinary(\u001b[38;5;124m'\u001b[39m\u001b[38;5;124mq_1\u001b[39m\u001b[38;5;124m'\u001b[39m), pq\u001b[38;5;241m.\u001b[39mBinary(\u001b[38;5;124m'\u001b[39m\u001b[38;5;124mq_2\u001b[39m\u001b[38;5;124m'\u001b[39m)\n\u001b[1;32m      3\u001b[0m H \u001b[38;5;241m=\u001b[39m \u001b[38;5;241m1\u001b[39m\u001b[38;5;241m-\u001b[39m q_1 \u001b[38;5;241m-\u001b[39mq_2 \u001b[38;5;241m+\u001b[39m\u001b[38;5;241m2\u001b[39m\u001b[38;5;241m*\u001b[39mq_1\u001b[38;5;241m*\u001b[39mq_2\n",
            "\u001b[0;31mModuleNotFoundError\u001b[0m: No module named 'pyqubo'"
          ]
        }
      ],
      "source": [
        "import pyqubo as pq\n",
        "q_1,q_2 = pq.Binary('q_1'), pq.Binary('q_2')\n",
        "H = 1- q_1 -q_2 +2*q_1*q_2\n",
        "qubo=H.compile().to_qubo()\n",
        "print(qubo)\n",
        "\n",
        "bqm=H.compile().to_bqm()\n",
        "print(bqm)"
      ]
    },
    {
      "cell_type": "markdown",
      "metadata": {},
      "source": [
        "The utilities of the `dimod` package allow us to easily perform many operations such as model conversion, model generation or results management. Check out the `dimod` [utilities documentation](https://docs.ocean.dwavesys.com/en/stable/docs_dimod/reference/utilities.html) to see everything that can be done."
      ]
    },
    {
      "cell_type": "code",
      "execution_count": null,
      "metadata": {},
      "outputs": [],
      "source": [
        "import dimod\n",
        "\n",
        "#Converting Between Models utilities\n",
        "#qubo_to_ising\n",
        "imodel=dimod.qubo_to_ising({('qb', 'qb'): -1, ('qg', 'qg'): -1, ('qb', 'qg'): 2})\n",
        "print(imodel)\n",
        "\n",
        "#ising_to_qubo\n",
        "qmodel=dimod.ising_to_qubo({'qb': 0.0, 'qg': 0.0}, {('qb', 'qg'): 0.5}, -0.5)\n",
        "print(qmodel)"
      ]
    },
    {
      "cell_type": "code",
      "execution_count": null,
      "metadata": {},
      "outputs": [],
      "source": [
        "from dimod.generators import or_gate, and_gate\n",
        "# generating BQM models\n",
        "\n",
        "#generate a BQM  with variables x1, x2, x3, x4 that exactly 2 of the four variables are 1 satisfy the condition of min energy\n",
        "bqm_4_2 = dimod.generators.combinations(['x1', 'x2', 'x3', 'x4'], 2)\n",
        "\n",
        "#generate a BQM for 3 variables that satisfy the OR operation x1vx2=x3\n",
        "bqm_or = or_gate('x1', 'x2', 'x3')\n",
        "\n",
        "#generate a BQM for 3 variables that satisfy the AND operation x1^x2=x3\n",
        "bqm_or = and_gate('x1', 'x2', 'x3')\n",
        "\n"
      ]
    },
    {
      "cell_type": "markdown",
      "metadata": {},
      "source": [
        "Managing the [samples](https://docs.ocean.dwavesys.com/en/stable/docs_dimod/intro/intro_samples.html)"
      ]
    },
    {
      "cell_type": "code",
      "execution_count": null,
      "metadata": {},
      "outputs": [],
      "source": [
        "#Managing samples\n",
        "sampleset = sampler.sample(bqm, num_reads=5000,label='SAT x1+x2=1 with bqm and offset')\n",
        "print(sampleset)"
      ]
    },
    {
      "cell_type": "markdown",
      "metadata": {},
      "source": [
        "We can build a pandas dataframe to store the sampler result"
      ]
    },
    {
      "cell_type": "code",
      "execution_count": null,
      "metadata": {},
      "outputs": [],
      "source": [
        "df=sampleset.to_pandas_dataframe()\n",
        "df.head()"
      ]
    },
    {
      "cell_type": "markdown",
      "metadata": {},
      "source": [
        "Pandas allows us an easy and convenient way to manage ans query data. It is also very useful to store results in files so that we don't need to execute the sampler again and save QPU time"
      ]
    },
    {
      "cell_type": "code",
      "execution_count": null,
      "metadata": {},
      "outputs": [],
      "source": [
        "!pip install openpyxl"
      ]
    },
    {
      "cell_type": "code",
      "execution_count": null,
      "metadata": {},
      "outputs": [],
      "source": [
        "import openpyxl\n",
        "import pandas as pd\n",
        "df.to_excel('results.xlsx') #install  excel viewer complement to open excel files in VSCode\n",
        "df.to_csv('results.csv')"
      ]
    },
    {
      "cell_type": "markdown",
      "metadata": {},
      "source": [
        "The package `dimod` has also utilities to deal with **Non-Quadratic (Higher-Degree) Polynomials** reducing problems with interactions between more than pairs of variables to a QUBO.\n",
        "\n",
        "This is done by introducing and minimizing over ancillary variables. A good procedure is to select the pair of variables that is most common amongst all terms with more than pairwise interactions, and replace it with an ancillary variable in all those terms. Repeat until no more terms of 3 or more variables remain. Note that subsequent iterations may involve products of ancillary variables if these ancillary pairs are the most common amongst the terms.\n",
        "\n",
        "An interaction involving 4 or more variables can be reduced to pairwise by sequentially introducing new variables and reducing the degree of the interaction by 1 at each step.\n",
        "\n",
        "Ocean software `dimod` pakage can automate such reduction for you"
      ]
    },
    {
      "cell_type": "code",
      "execution_count": null,
      "metadata": {},
      "outputs": [],
      "source": [
        "cubic = {('x',): -1, ('y',): 1, ('z',): 1.5, ('x', 'y'): -1, ('x', 'y', 'z'): -2}\n",
        "print(dimod.make_quadratic(cubic, 5, dimod.BINARY))"
      ]
    },
    {
      "cell_type": "markdown",
      "metadata": {
        "id": "I2EJOyIjHsJF"
      },
      "source": [
        "## 3-SAT"
      ]
    },
    {
      "cell_type": "markdown",
      "metadata": {},
      "source": [
        "### Additional exercices\n"
      ]
    },
    {
      "cell_type": "markdown",
      "metadata": {},
      "source": [
        "Make the QUBO for 3 variables that satisfy the following clause:\n",
        "\n",
        "$\\sum_i x_i = 1$\n",
        "\n",
        "Execute in the QPU and check the embedings with the problem inspector tool"
      ]
    },
    {
      "cell_type": "code",
      "execution_count": 10,
      "metadata": {
        "id": "XfCxTV8_jyTT"
      },
      "outputs": [
        {
          "ename": "RuntimeError",
          "evalue": "threads can only be started once",
          "output_type": "error",
          "traceback": [
            "\u001b[0;31m---------------------------------------------------------------------------\u001b[0m",
            "\u001b[0;31mRuntimeError\u001b[0m                              Traceback (most recent call last)",
            "Cell \u001b[0;32mIn[10], line 9\u001b[0m\n\u001b[1;32m      6\u001b[0m sampler \u001b[38;5;241m=\u001b[39m EmbeddingComposite(DWaveSampler())\n\u001b[1;32m      7\u001b[0m sampleset \u001b[38;5;241m=\u001b[39m sampler\u001b[38;5;241m.\u001b[39msample_qubo(Q, num_reads\u001b[38;5;241m=\u001b[39m\u001b[38;5;241m5000\u001b[39m)\n\u001b[0;32m----> 9\u001b[0m \u001b[43mdwave\u001b[49m\u001b[38;5;241;43m.\u001b[39;49m\u001b[43minspector\u001b[49m\u001b[38;5;241;43m.\u001b[39;49m\u001b[43mshow\u001b[49m\u001b[43m(\u001b[49m\u001b[43msampleset\u001b[49m\u001b[43m)\u001b[49m\n",
            "File \u001b[0;32m~/develop-qc/dwaveintro/ocean/lib/python3.10/site-packages/dwave/inspector/__init__.py:192\u001b[0m, in \u001b[0;36mshow\u001b[0;34m(*args, **kwargs)\u001b[0m\n\u001b[1;32m    190\u001b[0m data \u001b[38;5;241m=\u001b[39m from_objects(\u001b[38;5;241m*\u001b[39margs, \u001b[38;5;241m*\u001b[39m\u001b[38;5;241m*\u001b[39mkwargs)\n\u001b[1;32m    191\u001b[0m id_ \u001b[38;5;241m=\u001b[39m push_inspector_data(data)\n\u001b[0;32m--> 192\u001b[0m \u001b[38;5;28;01mreturn\u001b[39;00m \u001b[43mopen_problem\u001b[49m\u001b[43m(\u001b[49m\u001b[43mid_\u001b[49m\u001b[43m,\u001b[49m\u001b[43m \u001b[49m\u001b[43mblock\u001b[49m\u001b[38;5;241;43m=\u001b[39;49m\u001b[43mblock\u001b[49m\u001b[43m,\u001b[49m\u001b[43m \u001b[49m\u001b[43mtimeout\u001b[49m\u001b[38;5;241;43m=\u001b[39;49m\u001b[43mtimeout\u001b[49m\u001b[43m)\u001b[49m\n",
            "File \u001b[0;32m~/develop-qc/dwaveintro/ocean/lib/python3.10/site-packages/dwave/inspector/__init__.py:95\u001b[0m, in \u001b[0;36mopen_problem\u001b[0;34m(problem_id, block, timeout)\u001b[0m\n\u001b[1;32m     92\u001b[0m \u001b[38;5;28;01mif\u001b[39;00m \u001b[38;5;28misinstance\u001b[39m(block, \u001b[38;5;28mstr\u001b[39m):\n\u001b[1;32m     93\u001b[0m     block \u001b[38;5;241m=\u001b[39m Block(block\u001b[38;5;241m.\u001b[39mlower())\n\u001b[0;32m---> 95\u001b[0m \u001b[43mapp_server\u001b[49m\u001b[38;5;241;43m.\u001b[39;49m\u001b[43mensure_started\u001b[49m\u001b[43m(\u001b[49m\u001b[43m)\u001b[49m\n\u001b[1;32m     96\u001b[0m url \u001b[38;5;241m=\u001b[39m app_server\u001b[38;5;241m.\u001b[39mget_inspect_url(problem_id)\n\u001b[1;32m     98\u001b[0m external_url \u001b[38;5;241m=\u001b[39m rewrite_url(url)\n",
            "File \u001b[0;32m~/develop-qc/dwaveintro/ocean/lib/python3.10/site-packages/dwave/inspector/server.py:192\u001b[0m, in \u001b[0;36mWSGIAsyncServer.ensure_started\u001b[0;34m(self)\u001b[0m\n\u001b[1;32m    190\u001b[0m \u001b[38;5;28;01mdef\u001b[39;00m \u001b[38;5;21mensure_started\u001b[39m(\u001b[38;5;28mself\u001b[39m):\n\u001b[1;32m    191\u001b[0m     \u001b[38;5;28;01mif\u001b[39;00m \u001b[38;5;129;01mnot\u001b[39;00m \u001b[38;5;28mself\u001b[39m\u001b[38;5;241m.\u001b[39mis_alive():\n\u001b[0;32m--> 192\u001b[0m         \u001b[38;5;28;43mself\u001b[39;49m\u001b[38;5;241;43m.\u001b[39;49m\u001b[43mstart\u001b[49m\u001b[43m(\u001b[49m\u001b[43m)\u001b[49m\n\u001b[1;32m    193\u001b[0m         \u001b[38;5;28;01mreturn\u001b[39;00m \u001b[38;5;28mself\u001b[39m\u001b[38;5;241m.\u001b[39m_ensure_accessible()\n\u001b[1;32m    195\u001b[0m     \u001b[38;5;28;01mreturn\u001b[39;00m \u001b[38;5;28;01mTrue\u001b[39;00m\n",
            "File \u001b[0;32m/usr/lib/python3.10/threading.py:930\u001b[0m, in \u001b[0;36mThread.start\u001b[0;34m(self)\u001b[0m\n\u001b[1;32m    927\u001b[0m     \u001b[38;5;28;01mraise\u001b[39;00m \u001b[38;5;167;01mRuntimeError\u001b[39;00m(\u001b[38;5;124m\"\u001b[39m\u001b[38;5;124mthread.__init__() not called\u001b[39m\u001b[38;5;124m\"\u001b[39m)\n\u001b[1;32m    929\u001b[0m \u001b[38;5;28;01mif\u001b[39;00m \u001b[38;5;28mself\u001b[39m\u001b[38;5;241m.\u001b[39m_started\u001b[38;5;241m.\u001b[39mis_set():\n\u001b[0;32m--> 930\u001b[0m     \u001b[38;5;28;01mraise\u001b[39;00m \u001b[38;5;167;01mRuntimeError\u001b[39;00m(\u001b[38;5;124m\"\u001b[39m\u001b[38;5;124mthreads can only be started once\u001b[39m\u001b[38;5;124m\"\u001b[39m)\n\u001b[1;32m    932\u001b[0m \u001b[38;5;28;01mwith\u001b[39;00m _active_limbo_lock:\n\u001b[1;32m    933\u001b[0m     _limbo[\u001b[38;5;28mself\u001b[39m] \u001b[38;5;241m=\u001b[39m \u001b[38;5;28mself\u001b[39m\n",
            "\u001b[0;31mRuntimeError\u001b[0m: threads can only be started once"
          ]
        }
      ],
      "source": [
        "from dwave.system import DWaveSampler, EmbeddingComposite\n",
        "import dwave.inspector\n",
        "\n",
        "Q = {('q1', 'q2'): 2.0, ('q1', 'q3'): 2.0, ('q2', 'q3'): 2}\n",
        "\n",
        "sampler = EmbeddingComposite(DWaveSampler())\n",
        "sampleset = sampler.sample_qubo(Q, num_reads=5000)\n",
        "\n",
        "dwave.inspector.show(sampleset)"
      ]
    },
    {
      "cell_type": "markdown",
      "metadata": {},
      "source": []
    }
  ],
  "metadata": {
    "colab": {
      "provenance": []
    },
    "kernelspec": {
      "display_name": "Python 3",
      "language": "python",
      "name": "python3"
    },
    "language_info": {
      "codemirror_mode": {
        "name": "ipython",
        "version": 3
      },
      "file_extension": ".py",
      "mimetype": "text/x-python",
      "name": "python",
      "nbconvert_exporter": "python",
      "pygments_lexer": "ipython3",
      "version": "3.10.12"
    }
  },
  "nbformat": 4,
  "nbformat_minor": 0
}
